{
 "cells": [
  {
   "cell_type": "code",
   "execution_count": 1,
   "metadata": {
    "metadata": {}
   },
   "outputs": [],
   "source": [
    "import torch\n",
    "import torch.nn as nn\n",
    "import torch.nn.functional as F\n",
    "from torch_geometric.nn import GCNConv\n",
    "from torch_geometric.data import Data, DataLoader\n",
    "import string\n",
    "import random"
   ]
  },
  {
   "cell_type": "code",
   "execution_count": 2,
   "metadata": {
    "metadata": {}
   },
   "outputs": [],
   "source": [
    "KEYWORD = \"CRYPTO\"\n",
    "ALPHABET = string.ascii_uppercase\n",
    "ALPHABET_SIZE = len(ALPHABET)\n",
    "CHAR_TO_IDX = {char: idx for idx, char in enumerate(ALPHABET)}\n",
    "IDX_TO_CHAR = {idx: char for idx, char in enumerate(ALPHABET)}"
   ]
  },
  {
   "cell_type": "code",
   "execution_count": 3,
   "metadata": {
    "metadata": {}
   },
   "outputs": [],
   "source": [
    "def vignere_cipher(plaintext, keyword=KEYWORD):\n",
    "    keyword = (keyword * (len(plaintext) // len(keyword) + 1))[:len(plaintext)].upper()\n",
    "    cipher_text = ''\n",
    "    for p_char, k_char in zip(plaintext.upper(), keyword):\n",
    "        if p_char in ALPHABET:\n",
    "            idx = (CHAR_TO_IDX[p_char] + CHAR_TO_IDX[k_char]) % ALPHABET_SIZE\n",
    "            cipher_text += IDX_TO_CHAR[idx]\n",
    "        else:\n",
    "            cipher_text += p_char  # Non-alphabet characters remain unchanged\n",
    "    return cipher_text"
   ]
  },
  {
   "cell_type": "code",
   "execution_count": 4,
   "metadata": {
    "metadata": {}
   },
   "outputs": [],
   "source": [
    "def generate_data(num_samples=1000, max_length=10):\n",
    "    data_list = []\n",
    "    for _ in range(num_samples):\n",
    "        length = random.randint(1, max_length)\n",
    "        plaintext = ''.join(random.choices(ALPHABET, k=length))\n",
    "        ciphertext = vignere_cipher(plaintext, KEYWORD)\n",
    "\n",
    "        # Create node features (one-hot encoding)\n",
    "        x = []\n",
    "        for char in plaintext:\n",
    "            one_hot = [0] * ALPHABET_SIZE\n",
    "            one_hot[CHAR_TO_IDX[char]] = 1\n",
    "            x.append(one_hot)\n",
    "        x = torch.tensor(x, dtype=torch.float)\n",
    "\n",
    "        # Edge index: connect each character to the next\n",
    "        edge_index = []\n",
    "        for i in range(len(plaintext) - 1):\n",
    "            edge_index.append([i, i + 1])\n",
    "            edge_index.append([i + 1, i])  # Undirected edges\n",
    "        edge_index = torch.tensor(edge_index, dtype=torch.long).t().contiguous()\n",
    "\n",
    "        # Labels: target shifted index for each node\n",
    "        y = torch.tensor([CHAR_TO_IDX[char] for char in ciphertext], dtype=torch.long)\n",
    "\n",
    "        data = Data(x=x, edge_index=edge_index, y=y, keyword=KEYWORD)\n",
    "        data_list.append(data)\n",
    "    return data_list"
   ]
  },
  {
   "cell_type": "code",
   "execution_count": 5,
   "metadata": {
    "metadata": {}
   },
   "outputs": [
    {
     "name": "stderr",
     "output_type": "stream",
     "text": [
      "C:\\Users\\ekru\\AppData\\Roaming\\Python\\Python312\\site-packages\\torch_geometric\\deprecation.py:26: UserWarning: 'data.DataLoader' is deprecated, use 'loader.DataLoader' instead\n",
      "  warnings.warn(out)\n"
     ]
    }
   ],
   "source": [
    "dataset = generate_data(num_samples=2000, max_length=10)\n",
    "train_size = int(0.8 * len(dataset))\n",
    "train_dataset = dataset[:train_size]\n",
    "test_dataset = dataset[train_size:]\n",
    "\n",
    "train_loader = DataLoader(train_dataset, batch_size=32, shuffle=True)\n",
    "test_loader = DataLoader(test_dataset, batch_size=32, shuffle=False)"
   ]
  },
  {
   "cell_type": "code",
   "execution_count": 6,
   "metadata": {
    "metadata": {}
   },
   "outputs": [],
   "source": [
    "class CipherGNN(nn.Module):\n",
    "    def __init__(self, input_dim, hidden_dim, output_dim):\n",
    "        super(CipherGNN, self).__init__()\n",
    "        self.conv1 = GCNConv(input_dim, hidden_dim)\n",
    "        self.conv2 = GCNConv(hidden_dim, hidden_dim)\n",
    "        self.lin = nn.Linear(hidden_dim, output_dim)\n",
    "    \n",
    "    def forward(self, data):\n",
    "        x, edge_index = data.x, data.edge_index\n",
    "\n",
    "        x = self.conv1(x, edge_index)\n",
    "        x = F.relu(x)\n",
    "        x = self.conv2(x, edge_index)\n",
    "        x = F.relu(x)\n",
    "        x = self.lin(x)\n",
    "        return x"
   ]
  },
  {
   "cell_type": "code",
   "execution_count": 7,
   "metadata": {
    "metadata": {}
   },
   "outputs": [],
   "source": [
    "INPUT_DIM = ALPHABET_SIZE\n",
    "HIDDEN_DIM = 64\n",
    "OUTPUT_DIM = ALPHABET_SIZE\n",
    "EPOCHS = 50\n",
    "LEARNING_RATE = 0.01"
   ]
  },
  {
   "cell_type": "code",
   "execution_count": 8,
   "metadata": {
    "metadata": {}
   },
   "outputs": [],
   "source": [
    "model = CipherGNN(INPUT_DIM, HIDDEN_DIM, OUTPUT_DIM)\n",
    "criterion = nn.CrossEntropyLoss()\n",
    "optimizer = torch.optim.Adam(model.parameters(), lr=LEARNING_RATE)"
   ]
  },
  {
   "cell_type": "code",
   "execution_count": 9,
   "metadata": {
    "metadata": {}
   },
   "outputs": [
    {
     "name": "stdout",
     "output_type": "stream",
     "text": [
      "Epoch 1, Loss: 2.9728\n",
      "Epoch 2, Loss: 2.5905\n",
      "Epoch 3, Loss: 2.4849\n",
      "Epoch 4, Loss: 2.4202\n",
      "Epoch 5, Loss: 2.3730\n",
      "Epoch 6, Loss: 2.3284\n",
      "Epoch 7, Loss: 2.2928\n",
      "Epoch 8, Loss: 2.2683\n",
      "Epoch 9, Loss: 2.2422\n",
      "Epoch 10, Loss: 2.2163\n",
      "Epoch 11, Loss: 2.1848\n",
      "Epoch 12, Loss: 2.1661\n",
      "Epoch 13, Loss: 2.1457\n",
      "Epoch 14, Loss: 2.1185\n",
      "Epoch 15, Loss: 2.1114\n",
      "Epoch 16, Loss: 2.0968\n",
      "Epoch 17, Loss: 2.0744\n",
      "Epoch 18, Loss: 2.0640\n",
      "Epoch 19, Loss: 2.0535\n",
      "Epoch 20, Loss: 2.0408\n",
      "Epoch 21, Loss: 2.0197\n",
      "Epoch 22, Loss: 2.0130\n",
      "Epoch 23, Loss: 1.9917\n",
      "Epoch 24, Loss: 1.9833\n",
      "Epoch 25, Loss: 1.9715\n",
      "Epoch 26, Loss: 1.9671\n",
      "Epoch 27, Loss: 1.9479\n",
      "Epoch 28, Loss: 1.9334\n",
      "Epoch 29, Loss: 1.9308\n",
      "Epoch 30, Loss: 1.9282\n",
      "Epoch 31, Loss: 1.9153\n",
      "Epoch 32, Loss: 1.9055\n",
      "Epoch 33, Loss: 1.8929\n",
      "Epoch 34, Loss: 1.8840\n",
      "Epoch 35, Loss: 1.8570\n",
      "Epoch 36, Loss: 1.8663\n",
      "Epoch 37, Loss: 1.8609\n",
      "Epoch 38, Loss: 1.8488\n",
      "Epoch 39, Loss: 1.8386\n",
      "Epoch 40, Loss: 1.8337\n",
      "Epoch 41, Loss: 1.8193\n",
      "Epoch 42, Loss: 1.8185\n",
      "Epoch 43, Loss: 1.8106\n",
      "Epoch 44, Loss: 1.8018\n",
      "Epoch 45, Loss: 1.7921\n",
      "Epoch 46, Loss: 1.7908\n",
      "Epoch 47, Loss: 1.7926\n",
      "Epoch 48, Loss: 1.7669\n",
      "Epoch 49, Loss: 1.7687\n",
      "Epoch 50, Loss: 1.7629\n"
     ]
    }
   ],
   "source": [
    "for epoch in range(1, EPOCHS + 1):\n",
    "    model.train()\n",
    "    total_loss = 0\n",
    "    for batch in train_loader:\n",
    "        optimizer.zero_grad()\n",
    "        out = model(batch)\n",
    "        # Reshape outputs and labels for loss computation\n",
    "        out = out.view(-1, OUTPUT_DIM)\n",
    "        y = batch.y.view(-1)\n",
    "        loss = criterion(out, y)\n",
    "        loss.backward()\n",
    "        optimizer.step()\n",
    "        total_loss += loss.item() * batch.num_graphs\n",
    "    avg_loss = total_loss / len(train_loader.dataset)\n",
    "    print(f\"Epoch {epoch}, Loss: {avg_loss:.4f}\")"
   ]
  },
  {
   "cell_type": "code",
   "execution_count": 10,
   "metadata": {
    "metadata": {}
   },
   "outputs": [
    {
     "name": "stdout",
     "output_type": "stream",
     "text": [
      "Test Accuracy: 21.15%\n"
     ]
    }
   ],
   "source": [
    "model.eval()\n",
    "correct = 0\n",
    "total = 0\n",
    "with torch.no_grad():\n",
    "    for batch in test_loader:\n",
    "        out = model(batch)\n",
    "        preds = out.argmax(dim=1)\n",
    "        correct += (preds == batch.y).sum().item()\n",
    "        total += batch.y.size(0)\n",
    "\n",
    "accuracy = correct / total\n",
    "print(f\"Test Accuracy: {accuracy * 100:.2f}%\")\n"
   ]
  },
  {
   "cell_type": "code",
   "execution_count": 11,
   "metadata": {
    "metadata": {}
   },
   "outputs": [],
   "source": [
    "def encrypt_with_model(model, plaintext):\n",
    "    model.eval()\n",
    "    # Prepare node features\n",
    "    x = []\n",
    "    for char in plaintext.upper():\n",
    "        one_hot = [0] * ALPHABET_SIZE\n",
    "        if char in CHAR_TO_IDX:\n",
    "            one_hot[CHAR_TO_IDX[char]] = 1\n",
    "        x.append(one_hot)\n",
    "    x = torch.tensor(x, dtype=torch.float).unsqueeze(0)  # Batch size 1\n",
    "\n",
    "    # Create edge index\n",
    "    edge_index = []\n",
    "    for i in range(len(plaintext) - 1):\n",
    "        edge_index.append([i, i + 1])\n",
    "        edge_index.append([i + 1, i])\n",
    "    if edge_index:\n",
    "        edge_index = torch.tensor(edge_index, dtype=torch.long).t().unsqueeze(0)\n",
    "    else:\n",
    "        edge_index = torch.empty((1, 2, 0), dtype=torch.long)\n",
    "\n",
    "    # Create batch\n",
    "    data = Data(x=x.squeeze(0), edge_index=edge_index.squeeze(0))\n",
    "    out = model(data)\n",
    "    preds = out.argmax(dim=1)\n",
    "    ciphertext = ''.join([IDX_TO_CHAR[p.item()] for p in preds])\n",
    "    return ciphertext"
   ]
  },
  {
   "cell_type": "code",
   "execution_count": 12,
   "metadata": {
    "metadata": {}
   },
   "outputs": [
    {
     "name": "stdout",
     "output_type": "stream",
     "text": [
      "Plaintext: KKMFURIK\n",
      "Predicted Ciphertext: MBDDGIZI\n",
      "Actual Ciphertext: MBKUNFKB\n"
     ]
    }
   ],
   "source": [
    "sample_plaintext = \"KKMFURIK\"\n",
    "predicted_ciphertext = encrypt_with_model(model, sample_plaintext)\n",
    "print(f\"Plaintext: {sample_plaintext}\")\n",
    "print(f\"Predicted Ciphertext: {predicted_ciphertext}\")\n",
    "print(f\"Actual Ciphertext: {vignere_cipher(sample_plaintext)}\")\n"
   ]
  },
  {
   "cell_type": "code",
   "execution_count": 13,
   "metadata": {
    "metadata": {}
   },
   "outputs": [],
   "source": [
    "def percentage_matching(str1, str2):\n",
    "    if len(str1) != len(str2):\n",
    "        raise ValueError(\"Strings must be of the same length\")\n",
    "\n",
    "    matches = sum(1 for a, b in zip(str1, str2) if a == b)\n",
    "    percentage = (matches / len(str1)) * 100\n",
    "    return percentage"
   ]
  },
  {
   "cell_type": "code",
   "execution_count": 14,
   "metadata": {
    "metadata": {}
   },
   "outputs": [
    {
     "data": {
      "text/plain": [
       "25.0"
      ]
     },
     "execution_count": 14,
     "metadata": {},
     "output_type": "execute_result"
    }
   ],
   "source": [
    "percentage_matching(predicted_ciphertext,vignere_cipher(sample_plaintext))"
   ]
  },
  {
   "cell_type": "code",
   "execution_count": null,
   "metadata": {},
   "outputs": [],
   "source": []
  },
  {
   "cell_type": "code",
   "execution_count": null,
   "metadata": {},
   "outputs": [],
   "source": []
  }
 ],
 "metadata": {
  "kernelspec": {
   "display_name": "crypto",
   "language": "python",
   "name": "python3"
  },
  "language_info": {
   "codemirror_mode": {
    "name": "ipython",
    "version": 3
   },
   "file_extension": ".py",
   "mimetype": "text/x-python",
   "name": "python",
   "nbconvert_exporter": "python",
   "pygments_lexer": "ipython3",
   "version": "3.12.5"
  }
 },
 "nbformat": 4,
 "nbformat_minor": 2
}
