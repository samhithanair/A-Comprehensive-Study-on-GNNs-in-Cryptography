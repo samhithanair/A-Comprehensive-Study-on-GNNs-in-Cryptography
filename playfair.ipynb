{
 "cells": [
  {
   "cell_type": "code",
   "execution_count": 1,
   "metadata": {
    "metadata": {}
   },
   "outputs": [],
   "source": [
    "import torch\n",
    "import torch.nn as nn\n",
    "import torch.nn.functional as F\n",
    "from torch_geometric.nn import GCNConv\n",
    "from torch_geometric.data import Data, DataLoader\n",
    "import string\n",
    "import random"
   ]
  },
  {
   "cell_type": "code",
   "execution_count": 2,
   "metadata": {
    "metadata": {}
   },
   "outputs": [],
   "source": [
    "KEYWORD=\"CRYPTO\"\n",
    "ALPHABET = string.ascii_uppercase.replace('J', '')  # 'J' is usually omitted\n",
    "ALPHABET_SIZE = len(ALPHABET)"
   ]
  },
  {
   "cell_type": "code",
   "execution_count": 3,
   "metadata": {
    "metadata": {}
   },
   "outputs": [],
   "source": [
    "def generate_playfair_matrix(keyword):\n",
    "    seen = set()\n",
    "    matrix = []\n",
    "    for char in keyword.upper():\n",
    "        if char not in seen and char in ALPHABET:\n",
    "            seen.add(char)\n",
    "            matrix.append(char)\n",
    "    for char in ALPHABET:\n",
    "        if char not in seen:\n",
    "            matrix.append(char)\n",
    "    return matrix"
   ]
  },
  {
   "cell_type": "code",
   "execution_count": 4,
   "metadata": {
    "metadata": {}
   },
   "outputs": [],
   "source": [
    "def prepare_pairs(plaintext):\n",
    "    plaintext = plaintext.upper().replace(\" \", \"\").replace(\"J\", \"I\")\n",
    "    pairs = []\n",
    "    i = 0\n",
    "    while i < len(plaintext):\n",
    "        a = plaintext[i]\n",
    "        if i + 1 < len(plaintext):\n",
    "            b = plaintext[i + 1]\n",
    "            if a == b:\n",
    "                pairs.append((a, 'X'))  # Same letters, add 'X'\n",
    "                i += 1\n",
    "            else:\n",
    "                pairs.append((a, b))\n",
    "                i += 2\n",
    "        else:\n",
    "            pairs.append((a, 'X'))  # If odd, add 'X'\n",
    "            i += 1\n",
    "    return pairs"
   ]
  },
  {
   "cell_type": "code",
   "execution_count": 5,
   "metadata": {
    "metadata": {}
   },
   "outputs": [],
   "source": [
    "def encrypt_playfair(plaintext, keyword):\n",
    "    matrix = generate_playfair_matrix(keyword)\n",
    "    pairs = prepare_pairs(plaintext)\n",
    "    ciphertext = ''\n",
    "\n",
    "    # Create a mapping for positions in the matrix\n",
    "    position = {char: (i // 5, i % 5) for i, char in enumerate(matrix)}\n",
    "\n",
    "    for a, b in pairs:\n",
    "        row_a, col_a = position[a]\n",
    "        row_b, col_b = position[b]\n",
    "        \n",
    "        if row_a == row_b:  # Same row\n",
    "            ciphertext += matrix[row_a * 5 + (col_a + 1) % 5]\n",
    "            ciphertext += matrix[row_b * 5 + (col_b + 1) % 5]\n",
    "        elif col_a == col_b:  # Same column\n",
    "            ciphertext += matrix[((row_a + 1) % 5) * 5 + col_a]\n",
    "            ciphertext += matrix[((row_b + 1) % 5) * 5 + col_b]\n",
    "        else:  # Rectangle\n",
    "            ciphertext += matrix[row_a * 5 + col_b]\n",
    "            ciphertext += matrix[row_b * 5 + col_a]\n",
    "    \n",
    "    return ciphertext"
   ]
  },
  {
   "cell_type": "code",
   "execution_count": 6,
   "metadata": {
    "metadata": {}
   },
   "outputs": [],
   "source": [
    "def generate_data(num_samples=1000, max_length=10):\n",
    "    data_list = []\n",
    "    for _ in range(num_samples):\n",
    "        length = random.randint(1, max_length)\n",
    "        plaintext = ''.join(random.choices(ALPHABET, k=length))\n",
    "        keyword = KEYWORD  # Random keyword length\n",
    "        ciphertext = encrypt_playfair(plaintext, keyword)\n",
    "\n",
    "        # Create node features (one-hot encoding)\n",
    "        x = []\n",
    "        for char in plaintext:\n",
    "            one_hot = [0] * ALPHABET_SIZE\n",
    "            one_hot[ALPHABET.index(char)] = 1\n",
    "            x.append(one_hot)\n",
    "        x = torch.tensor(x, dtype=torch.float)\n",
    "\n",
    "        # Edge index: connect each character to the next\n",
    "        edge_index = []\n",
    "        for i in range(len(plaintext) - 1):\n",
    "            edge_index.append([i, i + 1])\n",
    "            edge_index.append([i + 1, i])  # Undirected edges\n",
    "        edge_index = torch.tensor(edge_index, dtype=torch.long).t().contiguous()\n",
    "\n",
    "        # Prepare labels\n",
    "        y = []\n",
    "        pairs = prepare_pairs(plaintext)\n",
    "        for a, b in pairs:\n",
    "            encrypted_pair = encrypt_playfair(a + b, keyword)\n",
    "            y.extend([ALPHABET.index(char) for char in encrypted_pair])\n",
    "\n",
    "        y = torch.tensor(y, dtype=torch.long)\n",
    "\n",
    "        # Ensure the output matches the number of nodes (adjust if needed)\n",
    "        if len(y) != len(x):  # If lengths don't match\n",
    "            continue  # Skip this sample to avoid mismatches\n",
    "\n",
    "        data = Data(x=x, edge_index=edge_index, y=y)\n",
    "        data_list.append(data)\n",
    "    return data_list\n"
   ]
  },
  {
   "cell_type": "code",
   "execution_count": 7,
   "metadata": {
    "metadata": {}
   },
   "outputs": [
    {
     "name": "stderr",
     "output_type": "stream",
     "text": [
      "C:\\Users\\ekru\\AppData\\Roaming\\Python\\Python312\\site-packages\\torch_geometric\\deprecation.py:26: UserWarning: 'data.DataLoader' is deprecated, use 'loader.DataLoader' instead\n",
      "  warnings.warn(out)\n"
     ]
    }
   ],
   "source": [
    "dataset = generate_data(num_samples=2000, max_length=10)\n",
    "train_size = int(0.8 * len(dataset))\n",
    "train_dataset = dataset[:train_size]\n",
    "test_dataset = dataset[train_size:]\n",
    "\n",
    "train_loader = DataLoader(train_dataset, batch_size=32, shuffle=True)\n",
    "test_loader = DataLoader(test_dataset, batch_size=32, shuffle=False)"
   ]
  },
  {
   "cell_type": "code",
   "execution_count": 8,
   "metadata": {
    "metadata": {}
   },
   "outputs": [],
   "source": [
    "class CipherGNN(nn.Module):\n",
    "    def __init__(self, input_dim, hidden_dim, output_dim):\n",
    "        super(CipherGNN, self).__init__()\n",
    "        self.conv1 = GCNConv(input_dim, hidden_dim)\n",
    "        self.conv2 = GCNConv(hidden_dim, hidden_dim)\n",
    "        self.lin = nn.Linear(hidden_dim, output_dim)\n",
    "    \n",
    "    def forward(self, data):\n",
    "        x, edge_index = data.x, data.edge_index\n",
    "\n",
    "        x = self.conv1(x, edge_index)\n",
    "        x = F.relu(x)\n",
    "        x = self.conv2(x, edge_index)\n",
    "        x = F.relu(x)\n",
    "        x = self.lin(x)\n",
    "        return x"
   ]
  },
  {
   "cell_type": "code",
   "execution_count": 9,
   "metadata": {
    "metadata": {}
   },
   "outputs": [],
   "source": [
    "# Hyperparameters\n",
    "INPUT_DIM = ALPHABET_SIZE\n",
    "HIDDEN_DIM = 64\n",
    "OUTPUT_DIM = ALPHABET_SIZE\n",
    "EPOCHS = 50\n",
    "LEARNING_RATE = 0.01"
   ]
  },
  {
   "cell_type": "code",
   "execution_count": 10,
   "metadata": {
    "metadata": {}
   },
   "outputs": [],
   "source": [
    "model = CipherGNN(INPUT_DIM, HIDDEN_DIM, OUTPUT_DIM)\n",
    "criterion = nn.CrossEntropyLoss()\n",
    "optimizer = torch.optim.Adam(model.parameters(), lr=LEARNING_RATE)"
   ]
  },
  {
   "cell_type": "code",
   "execution_count": 11,
   "metadata": {
    "metadata": {}
   },
   "outputs": [
    {
     "name": "stdout",
     "output_type": "stream",
     "text": [
      "Epoch 1, Loss: 3.0353\n",
      "Epoch 2, Loss: 2.2446\n",
      "Epoch 3, Loss: 1.8511\n",
      "Epoch 4, Loss: 1.6752\n",
      "Epoch 5, Loss: 1.5690\n",
      "Epoch 6, Loss: 1.5152\n",
      "Epoch 7, Loss: 1.4668\n",
      "Epoch 8, Loss: 1.4159\n",
      "Epoch 9, Loss: 1.3906\n",
      "Epoch 10, Loss: 1.3511\n",
      "Epoch 11, Loss: 1.3221\n",
      "Epoch 12, Loss: 1.2887\n",
      "Epoch 13, Loss: 1.2690\n",
      "Epoch 14, Loss: 1.2358\n",
      "Epoch 15, Loss: 1.2013\n",
      "Epoch 16, Loss: 1.1657\n",
      "Epoch 17, Loss: 1.1510\n",
      "Epoch 18, Loss: 1.1512\n",
      "Epoch 19, Loss: 1.1295\n",
      "Epoch 20, Loss: 1.0953\n",
      "Epoch 21, Loss: 1.0775\n",
      "Epoch 22, Loss: 1.0520\n",
      "Epoch 23, Loss: 1.0259\n",
      "Epoch 24, Loss: 1.0067\n",
      "Epoch 25, Loss: 0.9943\n",
      "Epoch 26, Loss: 0.9699\n",
      "Epoch 27, Loss: 0.9500\n",
      "Epoch 28, Loss: 0.9363\n",
      "Epoch 29, Loss: 0.9233\n",
      "Epoch 30, Loss: 0.9211\n",
      "Epoch 31, Loss: 0.8943\n",
      "Epoch 32, Loss: 0.8916\n",
      "Epoch 33, Loss: 0.8610\n",
      "Epoch 34, Loss: 0.8588\n",
      "Epoch 35, Loss: 0.8406\n",
      "Epoch 36, Loss: 0.8295\n",
      "Epoch 37, Loss: 0.8282\n",
      "Epoch 38, Loss: 0.8166\n",
      "Epoch 39, Loss: 0.7858\n",
      "Epoch 40, Loss: 0.7710\n",
      "Epoch 41, Loss: 0.7490\n",
      "Epoch 42, Loss: 0.7514\n",
      "Epoch 43, Loss: 0.7470\n",
      "Epoch 44, Loss: 0.7263\n",
      "Epoch 45, Loss: 0.7103\n",
      "Epoch 46, Loss: 0.7005\n",
      "Epoch 47, Loss: 0.6861\n",
      "Epoch 48, Loss: 0.6865\n",
      "Epoch 49, Loss: 0.6968\n",
      "Epoch 50, Loss: 0.6699\n"
     ]
    }
   ],
   "source": [
    "for epoch in range(1, EPOCHS + 1):\n",
    "    model.train()\n",
    "    total_loss = 0\n",
    "    for batch in train_loader:\n",
    "        optimizer.zero_grad()\n",
    "        out = model(batch)\n",
    "        # Reshape outputs and labels for loss computation\n",
    "        out = out.view(-1, OUTPUT_DIM)\n",
    "        y = batch.y.view(-1)\n",
    "        loss = criterion(out, y)\n",
    "        loss.backward()\n",
    "        optimizer.step()\n",
    "        total_loss += loss.item() * batch.num_graphs\n",
    "    avg_loss = total_loss / len(train_loader.dataset)\n",
    "    print(f\"Epoch {epoch}, Loss: {avg_loss:.4f}\")"
   ]
  },
  {
   "cell_type": "code",
   "execution_count": 12,
   "metadata": {
    "metadata": {}
   },
   "outputs": [
    {
     "name": "stdout",
     "output_type": "stream",
     "text": [
      "Test Accuracy: 51.23%\n"
     ]
    }
   ],
   "source": [
    "model.eval()\n",
    "correct = 0\n",
    "total = 0\n",
    "with torch.no_grad():\n",
    "    for batch in test_loader:\n",
    "        out = model(batch)\n",
    "        preds = out.argmax(dim=1)\n",
    "        correct += (preds == batch.y).sum().item()\n",
    "        total += batch.y.size(0)\n",
    "\n",
    "accuracy = correct / total\n",
    "print(f\"Test Accuracy: {accuracy * 100:.2f}%\")\n"
   ]
  },
  {
   "cell_type": "code",
   "execution_count": 13,
   "metadata": {
    "metadata": {}
   },
   "outputs": [],
   "source": [
    "def encrypt_with_model(model, plaintext, keyword=KEYWORD):\n",
    "    model.eval()\n",
    "    # Prepare node features\n",
    "    x = []\n",
    "    for char in plaintext.upper():\n",
    "        one_hot = [0] * ALPHABET_SIZE\n",
    "        one_hot[ALPHABET.index(char)] = 1\n",
    "        x.append(one_hot)\n",
    "    x = torch.tensor(x, dtype=torch.float).unsqueeze(0)  # Batch size 1\n",
    "\n",
    "    # Create edge index\n",
    "    edge_index = []\n",
    "    for i in range(len(plaintext) - 1):\n",
    "        edge_index.append([i, i + 1])\n",
    "        edge_index.append([i + 1, i])\n",
    "    edge_index = torch.tensor(edge_index, dtype=torch.long).t().unsqueeze(0)\n",
    "\n",
    "    # Create batch\n",
    "    data = Data(x=x.squeeze(0), edge_index=edge_index.squeeze(0))\n",
    "    out = model(data)\n",
    "    preds = out.argmax(dim=1)\n",
    "    ciphertext = ''.join([ALPHABET[p.item()] for p in preds])\n",
    "    return ciphertext"
   ]
  },
  {
   "cell_type": "code",
   "execution_count": 14,
   "metadata": {
    "metadata": {}
   },
   "outputs": [
    {
     "name": "stdout",
     "output_type": "stream",
     "text": [
      "Plaintext: KKMFURIK\n",
      "Predicted Ciphertext: FFGLCGFF\n",
      "Actual Ciphertext: IZGSLCPGIZ\n"
     ]
    }
   ],
   "source": [
    "sample_plaintext = \"KKMFURIK\"\n",
    "predicted_ciphertext = encrypt_with_model(model, sample_plaintext, KEYWORD)\n",
    "print(f\"Plaintext: {sample_plaintext}\")\n",
    "print(f\"Predicted Ciphertext: {predicted_ciphertext}\")\n",
    "print(f\"Actual Ciphertext: {encrypt_playfair(sample_plaintext, KEYWORD)}\")"
   ]
  }
 ],
 "metadata": {
  "kernelspec": {
   "display_name": "crypto",
   "language": "python",
   "name": "python3"
  },
  "language_info": {
   "codemirror_mode": {
    "name": "ipython",
    "version": 3
   },
   "file_extension": ".py",
   "mimetype": "text/x-python",
   "name": "python",
   "nbconvert_exporter": "python",
   "pygments_lexer": "ipython3",
   "version": "3.12.5"
  }
 },
 "nbformat": 4,
 "nbformat_minor": 2
}
