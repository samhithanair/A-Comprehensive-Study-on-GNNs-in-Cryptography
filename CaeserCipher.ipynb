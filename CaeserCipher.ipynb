{
 "cells": [
  {
   "cell_type": "code",
   "execution_count": 14,
   "metadata": {
    "metadata": {}
   },
   "outputs": [],
   "source": [
    "import torch\n",
    "import torch.nn as nn\n",
    "import torch.nn.functional as F\n",
    "from torch_geometric.nn import GCNConv\n",
    "from torch_geometric.data import Data, DataLoader\n",
    "import string\n",
    "import random"
   ]
  },
  {
   "cell_type": "code",
   "execution_count": 15,
   "metadata": {
    "metadata": {}
   },
   "outputs": [],
   "source": [
    "SHIFT = 3\n",
    "ALPHABET = string.ascii_uppercase\n",
    "ALPHABET_SIZE = len(ALPHABET)\n",
    "CHAR_TO_IDX = {char: idx for idx, char in enumerate(ALPHABET)}\n",
    "IDX_TO_CHAR = {idx: char for idx, char in enumerate(ALPHABET)}"
   ]
  },
  {
   "cell_type": "code",
   "execution_count": 16,
   "metadata": {
    "metadata": {}
   },
   "outputs": [],
   "source": [
    "def caesar_cipher(text, shift=SHIFT):\n",
    "    cipher_text = ''\n",
    "    for char in text.upper():\n",
    "        if char in ALPHABET:\n",
    "            idx = (CHAR_TO_IDX[char] + shift) % ALPHABET_SIZE\n",
    "            cipher_text += IDX_TO_CHAR[idx]\n",
    "        else:\n",
    "            cipher_text += char \n",
    "    return cipher_text"
   ]
  },
  {
   "cell_type": "code",
   "execution_count": 17,
   "metadata": {
    "metadata": {}
   },
   "outputs": [],
   "source": [
    "def generate_data(num_samples=1000, max_length=10):\n",
    "    data_list = []\n",
    "    for _ in range(num_samples):\n",
    "        length = random.randint(1, max_length)\n",
    "        plaintext = ''.join(random.choices(ALPHABET, k=length))\n",
    "        ciphertext = caesar_cipher(plaintext)\n",
    "\n",
    "        x = []\n",
    "        for char in plaintext:\n",
    "            one_hot = [0] * ALPHABET_SIZE\n",
    "            one_hot[CHAR_TO_IDX[char]] = 1\n",
    "            x.append(one_hot)\n",
    "        x = torch.tensor(x, dtype=torch.float)\n",
    "\n",
    "        edge_index = []\n",
    "        for i in range(len(plaintext) - 1):\n",
    "            edge_index.append([i, i + 1])\n",
    "            edge_index.append([i + 1, i])  \n",
    "        if edge_index:\n",
    "            edge_index = torch.tensor(edge_index, dtype=torch.long).t().contiguous()\n",
    "        else:\n",
    "            edge_index = torch.empty((2, 0), dtype=torch.long)\n",
    "\n",
    "        y = torch.tensor([CHAR_TO_IDX[char] for char in ciphertext], dtype=torch.long)\n",
    "\n",
    "        data = Data(x=x, edge_index=edge_index, y=y)\n",
    "        data_list.append(data)\n",
    "    return data_list"
   ]
  },
  {
   "cell_type": "code",
   "execution_count": 18,
   "metadata": {
    "metadata": {}
   },
   "outputs": [
    {
     "name": "stderr",
     "output_type": "stream",
     "text": [
      "C:\\Users\\ekru\\AppData\\Roaming\\Python\\Python312\\site-packages\\torch_geometric\\deprecation.py:26: UserWarning: 'data.DataLoader' is deprecated, use 'loader.DataLoader' instead\n",
      "  warnings.warn(out)\n"
     ]
    }
   ],
   "source": [
    "dataset = generate_data(num_samples=2000, max_length=10)\n",
    "train_size = int(0.8 * len(dataset))\n",
    "train_dataset = dataset[:train_size]\n",
    "test_dataset = dataset[train_size:]\n",
    "\n",
    "train_loader = DataLoader(train_dataset, batch_size=32, shuffle=True)\n",
    "test_loader = DataLoader(test_dataset, batch_size=32, shuffle=False)"
   ]
  },
  {
   "cell_type": "code",
   "execution_count": 19,
   "metadata": {
    "metadata": {}
   },
   "outputs": [],
   "source": [
    "class CipherGNN(nn.Module):\n",
    "    def __init__(self, input_dim, hidden_dim, output_dim):\n",
    "        super(CipherGNN, self).__init__()\n",
    "        self.conv1 = GCNConv(input_dim, hidden_dim)\n",
    "        self.conv2 = GCNConv(hidden_dim, hidden_dim)\n",
    "        self.lin = nn.Linear(hidden_dim, output_dim)\n",
    "\n",
    "    def forward(self, data):\n",
    "        x, edge_index, batch = data.x, data.edge_index, data.batch\n",
    "\n",
    "        x = self.conv1(x, edge_index)\n",
    "        x = F.relu(x)\n",
    "        x = self.conv2(x, edge_index)\n",
    "        x = F.relu(x)\n",
    "        x = self.lin(x)\n",
    "        return x\n"
   ]
  },
  {
   "cell_type": "code",
   "execution_count": 20,
   "metadata": {
    "metadata": {}
   },
   "outputs": [],
   "source": [
    "INPUT_DIM = ALPHABET_SIZE\n",
    "HIDDEN_DIM = 64\n",
    "OUTPUT_DIM = ALPHABET_SIZE\n",
    "EPOCHS = 50\n",
    "LEARNING_RATE = 0.01"
   ]
  },
  {
   "cell_type": "code",
   "execution_count": 21,
   "metadata": {
    "metadata": {}
   },
   "outputs": [],
   "source": [
    "model = CipherGNN(INPUT_DIM, HIDDEN_DIM, OUTPUT_DIM)\n",
    "criterion = nn.CrossEntropyLoss()\n",
    "optimizer = torch.optim.Adam(model.parameters(), lr=LEARNING_RATE)"
   ]
  },
  {
   "cell_type": "code",
   "execution_count": 22,
   "metadata": {
    "metadata": {}
   },
   "outputs": [
    {
     "name": "stdout",
     "output_type": "stream",
     "text": [
      "Epoch 1, Loss: 1.7057\n",
      "Epoch 2, Loss: 0.5505\n",
      "Epoch 3, Loss: 0.4774\n",
      "Epoch 4, Loss: 0.4210\n",
      "Epoch 5, Loss: 0.3947\n",
      "Epoch 6, Loss: 0.3944\n",
      "Epoch 7, Loss: 0.3633\n",
      "Epoch 8, Loss: 0.3547\n",
      "Epoch 9, Loss: 0.3505\n",
      "Epoch 10, Loss: 0.3413\n",
      "Epoch 11, Loss: 0.3269\n",
      "Epoch 12, Loss: 0.3289\n",
      "Epoch 13, Loss: 0.3134\n",
      "Epoch 14, Loss: 0.2975\n",
      "Epoch 15, Loss: 0.2834\n",
      "Epoch 16, Loss: 0.2703\n",
      "Epoch 17, Loss: 0.2780\n",
      "Epoch 18, Loss: 0.2708\n",
      "Epoch 19, Loss: 0.2646\n",
      "Epoch 20, Loss: 0.2602\n",
      "Epoch 21, Loss: 0.2427\n",
      "Epoch 22, Loss: 0.2445\n",
      "Epoch 23, Loss: 0.2500\n",
      "Epoch 24, Loss: 0.2354\n",
      "Epoch 25, Loss: 0.2296\n",
      "Epoch 26, Loss: 0.2272\n",
      "Epoch 27, Loss: 0.2206\n",
      "Epoch 28, Loss: 0.2325\n",
      "Epoch 29, Loss: 0.2261\n",
      "Epoch 30, Loss: 0.2178\n",
      "Epoch 31, Loss: 0.2061\n",
      "Epoch 32, Loss: 0.2108\n",
      "Epoch 33, Loss: 0.2221\n",
      "Epoch 34, Loss: 0.2135\n",
      "Epoch 35, Loss: 0.2048\n",
      "Epoch 36, Loss: 0.1967\n",
      "Epoch 37, Loss: 0.2018\n",
      "Epoch 38, Loss: 0.1950\n",
      "Epoch 39, Loss: 0.1953\n",
      "Epoch 40, Loss: 0.1962\n",
      "Epoch 41, Loss: 0.1878\n",
      "Epoch 42, Loss: 0.1923\n",
      "Epoch 43, Loss: 0.1903\n",
      "Epoch 44, Loss: 0.1933\n",
      "Epoch 45, Loss: 0.1861\n",
      "Epoch 46, Loss: 0.1729\n",
      "Epoch 47, Loss: 0.1893\n",
      "Epoch 48, Loss: 0.1974\n",
      "Epoch 49, Loss: 0.1721\n",
      "Epoch 50, Loss: 0.1765\n"
     ]
    }
   ],
   "source": [
    "for epoch in range(1, EPOCHS + 1):\n",
    "    model.train()\n",
    "    total_loss = 0\n",
    "    for batch in train_loader:\n",
    "        optimizer.zero_grad()\n",
    "        out = model(batch)\n",
    "        out = out.view(-1, OUTPUT_DIM)\n",
    "        y = batch.y.view(-1)\n",
    "        loss = criterion(out, y)\n",
    "        loss.backward()\n",
    "        optimizer.step()\n",
    "        total_loss += loss.item() * batch.num_graphs\n",
    "    avg_loss = total_loss / len(train_loader.dataset)\n",
    "    print(f\"Epoch {epoch}, Loss: {avg_loss:.4f}\")"
   ]
  },
  {
   "cell_type": "code",
   "execution_count": 23,
   "metadata": {
    "metadata": {}
   },
   "outputs": [
    {
     "name": "stdout",
     "output_type": "stream",
     "text": [
      "Test Accuracy: 90.01%\n"
     ]
    }
   ],
   "source": [
    "model.eval()\n",
    "correct = 0\n",
    "total = 0\n",
    "with torch.no_grad():\n",
    "    for batch in test_loader:\n",
    "        out = model(batch)\n",
    "        preds = out.argmax(dim=1)\n",
    "        correct += (preds == batch.y).sum().item()\n",
    "        total += batch.y.size(0)\n",
    "\n",
    "accuracy = correct / total\n",
    "print(f\"Test Accuracy: {accuracy * 100:.2f}%\")\n"
   ]
  },
  {
   "cell_type": "code",
   "execution_count": 26,
   "metadata": {},
   "outputs": [
    {
     "name": "stdout",
     "output_type": "stream",
     "text": [
      "Average Edit Distance: 0.57\n"
     ]
    }
   ],
   "source": [
    "def edit_distance(s1, s2):\n",
    "    m, n = len(s1), len(s2)\n",
    "    dp = [[0] * (n + 1) for _ in range(m + 1)]\n",
    "\n",
    "    for i in range(m + 1):\n",
    "        for j in range(n + 1):\n",
    "            if i == 0:\n",
    "                dp[i][j] = j\n",
    "            elif j == 0:\n",
    "                dp[i][j] = i\n",
    "            elif s1[i - 1] == s2[j - 1]:\n",
    "                dp[i][j] = dp[i - 1][j - 1]\n",
    "            else:\n",
    "                dp[i][j] = 1 + min(dp[i - 1][j], dp[i][j - 1], dp[i - 1][j - 1])\n",
    "\n",
    "    return dp[m][n]\n",
    "\n",
    "model.eval()\n",
    "total_edit_distance = 0\n",
    "total_samples = 0\n",
    "\n",
    "with torch.no_grad():\n",
    "    for batch in test_loader:\n",
    "        out = model(batch)\n",
    "        preds = out.argmax(dim=1)\n",
    "\n",
    "        batch_size = batch.num_graphs\n",
    "        pred_ciphertexts = []\n",
    "        actual_ciphertexts = []\n",
    "\n",
    "        for i in range(batch_size):\n",
    "            start = batch.ptr[i]  \n",
    "            end = batch.ptr[i + 1]  \n",
    "            pred_chars = [IDX_TO_CHAR[preds[j].item()] for j in range(start, end)]\n",
    "            actual_chars = [IDX_TO_CHAR[batch.y[j].item()] for j in range(start, end)]\n",
    "            pred_ciphertexts.append(\"\".join(pred_chars))\n",
    "            actual_ciphertexts.append(\"\".join(actual_chars))\n",
    "\n",
    "        for pred, actual in zip(pred_ciphertexts, actual_ciphertexts):\n",
    "            total_edit_distance += edit_distance(pred, actual)\n",
    "            total_samples += 1\n",
    "\n",
    "avg_edit_distance = total_edit_distance / total_samples\n",
    "print(f\"Average Edit Distance: {avg_edit_distance:.2f}\")\n"
   ]
  },
  {
   "cell_type": "code",
   "execution_count": 27,
   "metadata": {},
   "outputs": [],
   "source": [
    "def encrypt_with_model(model, plaintext):\n",
    "    model.eval()\n",
    "    x = []\n",
    "    for char in plaintext.upper():\n",
    "        one_hot = [0] * ALPHABET_SIZE\n",
    "        if char in CHAR_TO_IDX:\n",
    "            one_hot[CHAR_TO_IDX[char]] = 1\n",
    "        x.append(one_hot)\n",
    "    x = torch.tensor(x, dtype=torch.float).unsqueeze(0)  \n",
    "\n",
    "    edge_index = []\n",
    "    for i in range(len(plaintext) - 1):\n",
    "        edge_index.append([i, i + 1])\n",
    "        edge_index.append([i + 1, i])\n",
    "    if edge_index:\n",
    "        edge_index = torch.tensor(edge_index, dtype=torch.long).t().unsqueeze(0)\n",
    "    else:\n",
    "        edge_index = torch.empty((1, 2, 0), dtype=torch.long)\n",
    "\n",
    "    data = Data(x=x.squeeze(0), edge_index=edge_index.squeeze(0))\n",
    "    out = model(data)\n",
    "    preds = out.argmax(dim=1)\n",
    "    ciphertext = ''.join([IDX_TO_CHAR[p.item()] for p in preds])\n",
    "    return ciphertext"
   ]
  },
  {
   "cell_type": "code",
   "execution_count": 30,
   "metadata": {},
   "outputs": [
    {
     "name": "stdout",
     "output_type": "stream",
     "text": [
      "Plaintext: HEANDKE\n",
      "Predicted Ciphertext: KHDQGNH\n",
      "Actual Ciphertext: KHDQGNH\n"
     ]
    }
   ],
   "source": [
    "plaintext = \"HEANDKE\"\n",
    "predicted_ciphertext = encrypt_with_model(model,plaintext)\n",
    "actual_ciphertext = caesar_cipher(plaintext)\n",
    "print(f\"Plaintext: {plaintext}\")\n",
    "print(f\"Predicted Ciphertext: {predicted_ciphertext}\")\n",
    "print(f\"Actual Ciphertext: {actual_ciphertext}\")"
   ]
  },
  {
   "cell_type": "code",
   "execution_count": null,
   "metadata": {},
   "outputs": [],
   "source": []
  }
 ],
 "metadata": {
  "kernelspec": {
   "display_name": "crypto",
   "language": "python",
   "name": "python3"
  },
  "language_info": {
   "codemirror_mode": {
    "name": "ipython",
    "version": 3
   },
   "file_extension": ".py",
   "mimetype": "text/x-python",
   "name": "python",
   "nbconvert_exporter": "python",
   "pygments_lexer": "ipython3",
   "version": "3.12.5"
  }
 },
 "nbformat": 4,
 "nbformat_minor": 2
}
