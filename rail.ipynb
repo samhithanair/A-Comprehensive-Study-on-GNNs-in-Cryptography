{
 "cells": [
  {
   "cell_type": "code",
   "execution_count": 1,
   "metadata": {
    "metadata": {}
   },
   "outputs": [],
   "source": [
    "import torch\n",
    "import torch.nn as nn\n",
    "import torch.nn.functional as F\n",
    "from torch_geometric.nn import GCNConv\n",
    "from torch_geometric.data import Data, DataLoader\n",
    "import string\n",
    "import random"
   ]
  },
  {
   "cell_type": "code",
   "execution_count": 2,
   "metadata": {
    "metadata": {}
   },
   "outputs": [],
   "source": [
    "NUM_RAILS = 3\n",
    "ALPHABET = string.ascii_uppercase\n",
    "ALPHABET_SIZE = len(ALPHABET)\n",
    "CHAR_TO_IDX = {char: idx for idx, char in enumerate(ALPHABET)}\n",
    "IDX_TO_CHAR = {idx: char for idx, char in enumerate(ALPHABET)}"
   ]
  },
  {
   "cell_type": "code",
   "execution_count": 3,
   "metadata": {
    "metadata": {}
   },
   "outputs": [],
   "source": [
    "def railfence_cipher(text, num_rails=NUM_RAILS):\n",
    "    # Prepare an empty matrix\n",
    "    rails = ['' for _ in range(num_rails)]\n",
    "    direction = 1  # 1 for down, -1 for up\n",
    "    row = 0\n",
    "\n",
    "    # Populate the rails by placing characters in a zigzag pattern\n",
    "    for char in text.upper():\n",
    "        rails[row] += char\n",
    "        row += direction\n",
    "\n",
    "        if row == 0 or row == num_rails - 1:\n",
    "            direction *= -1  # Change direction when reaching the top or bottom rail\n",
    "\n",
    "    # Join all rails into a single ciphertext\n",
    "    cipher_text = ''.join(rails)\n",
    "    return cipher_text\n"
   ]
  },
  {
   "cell_type": "code",
   "execution_count": 4,
   "metadata": {
    "metadata": {}
   },
   "outputs": [],
   "source": [
    "def generate_data(num_samples=1000, max_length=10):\n",
    "    data_list = []\n",
    "    for _ in range(num_samples):\n",
    "        length = random.randint(1, max_length)\n",
    "        plaintext = ''.join(random.choices(ALPHABET, k=length))\n",
    "        ciphertext = railfence_cipher(plaintext)\n",
    "\n",
    "        # Create node features (one-hot encoding)\n",
    "        x = []\n",
    "        for char in plaintext:\n",
    "            one_hot = [0] * ALPHABET_SIZE\n",
    "            one_hot[CHAR_TO_IDX[char]] = 1\n",
    "            x.append(one_hot)\n",
    "        x = torch.tensor(x, dtype=torch.float)\n",
    "\n",
    "        # Edge index: connect each character to the next\n",
    "        edge_index = []\n",
    "        for i in range(len(plaintext) - 1):\n",
    "            edge_index.append([i, i + 1])\n",
    "            edge_index.append([i + 1, i])  # Assuming undirected edges\n",
    "        if edge_index:\n",
    "            edge_index = torch.tensor(edge_index, dtype=torch.long).t().contiguous()\n",
    "        else:\n",
    "            edge_index = torch.empty((2, 0), dtype=torch.long)\n",
    "\n",
    "        # Labels: target shift for each node\n",
    "        y = torch.tensor([CHAR_TO_IDX[char] for char in ciphertext], dtype=torch.long)\n",
    "\n",
    "        data = Data(x=x, edge_index=edge_index, y=y)\n",
    "        data_list.append(data)\n",
    "    return data_list"
   ]
  },
  {
   "cell_type": "code",
   "execution_count": 5,
   "metadata": {
    "metadata": {}
   },
   "outputs": [
    {
     "name": "stderr",
     "output_type": "stream",
     "text": [
      "C:\\Users\\ekru\\AppData\\Roaming\\Python\\Python312\\site-packages\\torch_geometric\\deprecation.py:26: UserWarning: 'data.DataLoader' is deprecated, use 'loader.DataLoader' instead\n",
      "  warnings.warn(out)\n"
     ]
    }
   ],
   "source": [
    "dataset = generate_data(num_samples=2000, max_length=10)\n",
    "train_size = int(0.8 * len(dataset))\n",
    "train_dataset = dataset[:train_size]\n",
    "test_dataset = dataset[train_size:]\n",
    "\n",
    "train_loader = DataLoader(train_dataset, batch_size=32, shuffle=True)\n",
    "test_loader = DataLoader(test_dataset, batch_size=32, shuffle=False)"
   ]
  },
  {
   "cell_type": "code",
   "execution_count": 6,
   "metadata": {
    "metadata": {}
   },
   "outputs": [],
   "source": [
    "class CipherGNN(nn.Module):\n",
    "    def __init__(self, input_dim, hidden_dim, output_dim):\n",
    "        super(CipherGNN, self).__init__()\n",
    "        self.conv1 = GCNConv(input_dim, hidden_dim)\n",
    "        self.conv2 = GCNConv(hidden_dim, hidden_dim)\n",
    "        self.lin = nn.Linear(hidden_dim, output_dim)\n",
    "\n",
    "    def forward(self, data):\n",
    "        x, edge_index, batch = data.x, data.edge_index, data.batch\n",
    "\n",
    "        x = self.conv1(x, edge_index)\n",
    "        x = F.relu(x)\n",
    "        x = self.conv2(x, edge_index)\n",
    "        x = F.relu(x)\n",
    "        x = self.lin(x)\n",
    "        return x\n"
   ]
  },
  {
   "cell_type": "code",
   "execution_count": 7,
   "metadata": {
    "metadata": {}
   },
   "outputs": [],
   "source": [
    "INPUT_DIM = ALPHABET_SIZE\n",
    "HIDDEN_DIM = 64\n",
    "OUTPUT_DIM = ALPHABET_SIZE\n",
    "EPOCHS = 50\n",
    "LEARNING_RATE = 0.01"
   ]
  },
  {
   "cell_type": "code",
   "execution_count": 8,
   "metadata": {
    "metadata": {}
   },
   "outputs": [],
   "source": [
    "model = CipherGNN(INPUT_DIM, HIDDEN_DIM, OUTPUT_DIM)\n",
    "criterion = nn.CrossEntropyLoss()\n",
    "optimizer = torch.optim.Adam(model.parameters(), lr=LEARNING_RATE)"
   ]
  },
  {
   "cell_type": "code",
   "execution_count": 9,
   "metadata": {
    "metadata": {}
   },
   "outputs": [
    {
     "name": "stdout",
     "output_type": "stream",
     "text": [
      "Epoch 1, Loss: 2.6866\n",
      "Epoch 2, Loss: 2.2461\n",
      "Epoch 3, Loss: 2.2051\n",
      "Epoch 4, Loss: 2.1838\n",
      "Epoch 5, Loss: 2.1716\n",
      "Epoch 6, Loss: 2.1528\n",
      "Epoch 7, Loss: 2.1418\n",
      "Epoch 8, Loss: 2.1282\n",
      "Epoch 9, Loss: 2.1191\n",
      "Epoch 10, Loss: 2.1101\n",
      "Epoch 11, Loss: 2.0915\n",
      "Epoch 12, Loss: 2.0865\n",
      "Epoch 13, Loss: 2.0719\n",
      "Epoch 14, Loss: 2.0604\n",
      "Epoch 15, Loss: 2.0488\n",
      "Epoch 16, Loss: 2.0444\n",
      "Epoch 17, Loss: 2.0308\n",
      "Epoch 18, Loss: 2.0224\n",
      "Epoch 19, Loss: 2.0104\n",
      "Epoch 20, Loss: 1.9998\n",
      "Epoch 21, Loss: 1.9947\n",
      "Epoch 22, Loss: 1.9829\n",
      "Epoch 23, Loss: 1.9718\n",
      "Epoch 24, Loss: 1.9684\n",
      "Epoch 25, Loss: 1.9551\n",
      "Epoch 26, Loss: 1.9458\n",
      "Epoch 27, Loss: 1.9423\n",
      "Epoch 28, Loss: 1.9290\n",
      "Epoch 29, Loss: 1.9238\n",
      "Epoch 30, Loss: 1.9162\n",
      "Epoch 31, Loss: 1.9139\n",
      "Epoch 32, Loss: 1.9099\n",
      "Epoch 33, Loss: 1.8860\n",
      "Epoch 34, Loss: 1.8842\n",
      "Epoch 35, Loss: 1.8766\n",
      "Epoch 36, Loss: 1.8753\n",
      "Epoch 37, Loss: 1.8642\n",
      "Epoch 38, Loss: 1.8574\n",
      "Epoch 39, Loss: 1.8536\n",
      "Epoch 40, Loss: 1.8392\n",
      "Epoch 41, Loss: 1.8347\n",
      "Epoch 42, Loss: 1.8278\n",
      "Epoch 43, Loss: 1.8194\n",
      "Epoch 44, Loss: 1.8203\n",
      "Epoch 45, Loss: 1.8112\n",
      "Epoch 46, Loss: 1.8027\n",
      "Epoch 47, Loss: 1.7939\n",
      "Epoch 48, Loss: 1.7882\n",
      "Epoch 49, Loss: 1.7963\n",
      "Epoch 50, Loss: 1.7809\n"
     ]
    }
   ],
   "source": [
    "for epoch in range(1, EPOCHS + 1):\n",
    "    model.train()\n",
    "    total_loss = 0\n",
    "    for batch in train_loader:\n",
    "        optimizer.zero_grad()\n",
    "        out = model(batch)\n",
    "        # Reshape outputs and labels for loss computation\n",
    "        out = out.view(-1, OUTPUT_DIM)\n",
    "        y = batch.y.view(-1)\n",
    "        loss = criterion(out, y)\n",
    "        loss.backward()\n",
    "        optimizer.step()\n",
    "        total_loss += loss.item() * batch.num_graphs\n",
    "    avg_loss = total_loss / len(train_loader.dataset)\n",
    "    print(f\"Epoch {epoch}, Loss: {avg_loss:.4f}\")"
   ]
  },
  {
   "cell_type": "code",
   "execution_count": 10,
   "metadata": {
    "metadata": {}
   },
   "outputs": [
    {
     "name": "stdout",
     "output_type": "stream",
     "text": [
      "Test Accuracy: 32.90%\n"
     ]
    }
   ],
   "source": [
    "model.eval()\n",
    "correct = 0\n",
    "total = 0\n",
    "with torch.no_grad():\n",
    "    for batch in test_loader:\n",
    "        out = model(batch)\n",
    "        preds = out.argmax(dim=1)\n",
    "        correct += (preds == batch.y).sum().item()\n",
    "        total += batch.y.size(0)\n",
    "\n",
    "accuracy = correct / total\n",
    "print(f\"Test Accuracy: {accuracy * 100:.2f}%\")\n"
   ]
  },
  {
   "cell_type": "code",
   "execution_count": 11,
   "metadata": {
    "metadata": {}
   },
   "outputs": [],
   "source": [
    "def encrypt_with_model(model, plaintext):\n",
    "    model.eval()\n",
    "    # Prepare node features\n",
    "    x = []\n",
    "    for char in plaintext.upper():\n",
    "        one_hot = [0] * ALPHABET_SIZE\n",
    "        if char in CHAR_TO_IDX:\n",
    "            one_hot[CHAR_TO_IDX[char]] = 1\n",
    "        x.append(one_hot)\n",
    "    x = torch.tensor(x, dtype=torch.float).unsqueeze(0)  # Batch size 1\n",
    "\n",
    "    # Create edge index\n",
    "    edge_index = []\n",
    "    for i in range(len(plaintext) - 1):\n",
    "        edge_index.append([i, i + 1])\n",
    "        edge_index.append([i + 1, i])\n",
    "    if edge_index:\n",
    "        edge_index = torch.tensor(edge_index, dtype=torch.long).t().unsqueeze(0)\n",
    "    else:\n",
    "        edge_index = torch.empty((1, 2, 0), dtype=torch.long)\n",
    "\n",
    "    # Create batch\n",
    "    data = Data(x=x.squeeze(0), edge_index=edge_index.squeeze(0))\n",
    "    out = model(data)\n",
    "    preds = out.argmax(dim=1)\n",
    "    ciphertext = ''.join([IDX_TO_CHAR[p.item()] for p in preds])\n",
    "    return ciphertext"
   ]
  },
  {
   "cell_type": "code",
   "execution_count": 12,
   "metadata": {
    "metadata": {}
   },
   "outputs": [
    {
     "name": "stdout",
     "output_type": "stream",
     "text": [
      "Plaintext: KKMFURIK\n",
      "Predicted Ciphertext: KKKFRRII\n",
      "Actual Ciphertext: KUKFRKMI\n"
     ]
    }
   ],
   "source": [
    "sample_plaintext = \"KKMFURIK\"\n",
    "predicted_ciphertext = encrypt_with_model(model, sample_plaintext)\n",
    "print(f\"Plaintext: {sample_plaintext}\")\n",
    "print(f\"Predicted Ciphertext: {predicted_ciphertext}\")\n",
    "print(f\"Actual Ciphertext: {railfence_cipher(sample_plaintext)}\")\n"
   ]
  },
  {
   "cell_type": "code",
   "execution_count": 13,
   "metadata": {
    "metadata": {}
   },
   "outputs": [],
   "source": [
    "def percentage_matching(str1, str2):\n",
    "    if len(str1) != len(str2):\n",
    "        raise ValueError(\"Strings must be of the same length\")\n",
    "\n",
    "    matches = sum(1 for a, b in zip(str1, str2) if a == b)\n",
    "    percentage = (matches / len(str1)) * 100\n",
    "    return percentage"
   ]
  },
  {
   "cell_type": "code",
   "execution_count": 14,
   "metadata": {
    "metadata": {}
   },
   "outputs": [
    {
     "data": {
      "text/plain": [
       "62.5"
      ]
     },
     "execution_count": 14,
     "metadata": {},
     "output_type": "execute_result"
    }
   ],
   "source": [
    "percentage_matching(predicted_ciphertext,railfence_cipher(sample_plaintext))"
   ]
  },
  {
   "cell_type": "code",
   "execution_count": null,
   "metadata": {},
   "outputs": [],
   "source": []
  }
 ],
 "metadata": {
  "kernelspec": {
   "display_name": "crypto",
   "language": "python",
   "name": "python3"
  },
  "language_info": {
   "codemirror_mode": {
    "name": "ipython",
    "version": 3
   },
   "file_extension": ".py",
   "mimetype": "text/x-python",
   "name": "python",
   "nbconvert_exporter": "python",
   "pygments_lexer": "ipython3",
   "version": "3.12.5"
  }
 },
 "nbformat": 4,
 "nbformat_minor": 2
}
